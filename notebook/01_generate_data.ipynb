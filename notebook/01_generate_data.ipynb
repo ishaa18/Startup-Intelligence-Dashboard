{
 "cells": [
  {
   "cell_type": "code",
   "execution_count": 1,
   "id": "65a8df2f",
   "metadata": {},
   "outputs": [
    {
     "name": "stdout",
     "output_type": "stream",
     "text": [
      "Requirement already satisfied: faker in c:\\python312\\lib\\site-packages (37.11.0)\n",
      "Requirement already satisfied: tzdata in c:\\python312\\lib\\site-packages (from faker) (2024.1)\n"
     ]
    },
    {
     "name": "stderr",
     "output_type": "stream",
     "text": [
      "WARNING: Ignoring invalid distribution ~ip (C:\\Python312\\Lib\\site-packages)\n",
      "WARNING: Ignoring invalid distribution ~ip (C:\\Python312\\Lib\\site-packages)\n",
      "WARNING: Ignoring invalid distribution ~ip (C:\\Python312\\Lib\\site-packages)\n"
     ]
    }
   ],
   "source": [
    "!pip install faker"
   ]
  },
  {
   "cell_type": "code",
   "execution_count": 2,
   "id": "b0cc0ecb",
   "metadata": {},
   "outputs": [],
   "source": [
    "from faker import Faker\n",
    "import pandas as pd\n",
    "import numpy as np"
   ]
  },
  {
   "cell_type": "code",
   "execution_count": 3,
   "id": "56fd1d97",
   "metadata": {},
   "outputs": [
    {
     "name": "stdout",
     "output_type": "stream",
     "text": [
      "✅ users.csv and transactions.csv created!\n"
     ]
    }
   ],
   "source": [
    "fake = Faker()\n",
    "Faker.seed(42)\n",
    "# Users data\n",
    "n = 2000\n",
    "users = pd.DataFrame({\n",
    "    'user_id': range(1, n + 1),\n",
    "    'signup_date': [fake.date_between(start_date='-12M', end_date='today') for _ in range(n)],\n",
    "    'country': [fake.country() for _ in range(n)],\n",
    "    'plan_type': np.random.choice(['Free', 'Basic', 'Premium'], n, p=[0.5, 0.3, 0.2])\n",
    "})\n",
    "users.to_csv('../data/users.csv', index=False)\n",
    "\n",
    "# Transactions data\n",
    "transactions = pd.DataFrame({\n",
    "    'user_id': np.random.choice(users['user_id'], 4000),\n",
    "    'date': [fake.date_between(start_date='-12M', end_date='today') for _ in range(4000)],\n",
    "    'amount': np.random.choice([0, 9, 29, 99], 4000, p=[0.4, 0.3, 0.2, 0.1])\n",
    "})\n",
    "transactions.to_csv('../data/transactions.csv', index=False)\n",
    "\n",
    "print(\"✅ users.csv and transactions.csv created!\")"
   ]
  },
  {
   "cell_type": "code",
   "execution_count": 1,
   "id": "6a73e2a8",
   "metadata": {},
   "outputs": [
    {
     "name": "stdout",
     "output_type": "stream",
     "text": [
      "Note: you may need to restart the kernel to use updated packages.\n"
     ]
    },
    {
     "name": "stderr",
     "output_type": "stream",
     "text": [
      "c:\\Python312\\python.exe: No module named pip\n"
     ]
    }
   ],
   "source": [
    "%pip install streamlit "
   ]
  }
 ],
 "metadata": {
  "kernelspec": {
   "display_name": "Python 3",
   "language": "python",
   "name": "python3"
  },
  "language_info": {
   "codemirror_mode": {
    "name": "ipython",
    "version": 3
   },
   "file_extension": ".py",
   "mimetype": "text/x-python",
   "name": "python",
   "nbconvert_exporter": "python",
   "pygments_lexer": "ipython3",
   "version": "3.12.5"
  }
 },
 "nbformat": 4,
 "nbformat_minor": 5
}
